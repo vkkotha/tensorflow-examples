{
 "cells": [
  {
   "cell_type": "code",
   "execution_count": 6,
   "metadata": {},
   "outputs": [],
   "source": [
    "import os\n",
    "os.environ['TF_CPP_MIN_LOG_LEVEL'] = '2'\n",
    "from datetime import datetime\n",
    "import tensorflow as tf"
   ]
  },
  {
   "cell_type": "code",
   "execution_count": 7,
   "metadata": {
    "pycharm": {
     "name": "#%%\n"
    }
   },
   "outputs": [],
   "source": [
    "now = datetime.now().strftime('%m-%d-%Y:%H:%M%S')\n",
    "logs_dir = 'workdir/ex2/logs/'\n",
    "def TB(external=False):\n",
    "    from tensorboard import notebook\n",
    "    notebook.start(\"--logdir={}\".format(logs_dir))\n",
    "    if external:\n",
    "        import webbrowser\n",
    "        webbrowser.open(\"http://localhost:6006\")"
   ]
  },
  {
   "cell_type": "code",
   "execution_count": 8,
   "metadata": {
    "pycharm": {
     "name": "#%%\n"
    }
   },
   "outputs": [],
   "source": [
    "\n",
    "x = tf.TensorSpec(shape=(), dtype=tf.float32, name='x')\n",
    "y = tf.TensorSpec(shape=(), dtype=tf.float32, name='y')\n",
    "@tf.function(input_signature=[x, y])\n",
    "def compute(x, y):\n",
    "    multiply_result = tf.multiply(x, y, name='multiply')\n",
    "    return tf.add(multiply_result, tf.constant(3.0))\n",
    "\n",
    "writer = tf.summary.create_file_writer(logs_dir)\n",
    "tf.summary.trace_on(graph=True)\n",
    "\n",
    "x_1 = tf.constant(3.0)\n",
    "y_1 = tf.constant(4.0)"
   ]
  },
  {
   "cell_type": "code",
   "execution_count": 9,
   "metadata": {
    "pycharm": {
     "name": "#%%\n"
    }
   },
   "outputs": [],
   "source": [
    "v = compute(x_1, y_1)\n",
    "\n",
    "with writer.as_default():\n",
    "    tf.summary.trace_export(\n",
    "        name=\"compute_trace-{0}\".format(now),\n",
    "        step=0,\n",
    "        profiler_outdir=logs_dir\n",
    "    )"
   ]
  },
  {
   "cell_type": "code",
   "execution_count": null,
   "metadata": {
    "pycharm": {
     "name": "#%%\n",
     "is_executing": true
    }
   },
   "outputs": [],
   "source": [
    "# Use trusted notebook to display tensorboard inline, otherwise use external=True to open external browser.\n",
    "TB(external=False)"
   ]
  }
 ],
 "metadata": {
  "kernelspec": {
   "display_name": "Python 3 (ipykernel)",
   "language": "python",
   "name": "python3"
  },
  "language_info": {
   "codemirror_mode": {
    "name": "ipython",
    "version": 3
   },
   "file_extension": ".py",
   "mimetype": "text/x-python",
   "name": "python",
   "nbconvert_exporter": "python",
   "pygments_lexer": "ipython3",
   "version": "3.9.7"
  }
 },
 "nbformat": 4,
 "nbformat_minor": 1
}
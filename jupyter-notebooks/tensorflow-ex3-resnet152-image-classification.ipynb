{
 "cells": [
  {
   "cell_type": "code",
   "execution_count": 54,
   "metadata": {
    "collapsed": true
   },
   "outputs": [],
   "source": [
    "from pathlib import Path\n",
    "import tensorflow as tf\n",
    "import numpy as np\n",
    "import matplotlib.pyplot as plt\n",
    "import tensorflow_hub as tf_hub\n",
    "from PIL import Image"
   ]
  },
  {
   "cell_type": "code",
   "execution_count": null,
   "outputs": [],
   "source": [
    "# Download imagenet21k labels\n",
    "imagenet21k_lemmas_file = Path('download/imagenet21k_wordnet_lemmas.txt')\n",
    "if not imagenet21k_lemmas_file.is_file():\n",
    "    !mkdir -p download\n",
    "    !wget -O download/imagenet21k_wordnet_lemmas.txt https://storage.googleapis.com/bit_models/imagenet21k_wordnet_lemmas.txt"
   ],
   "metadata": {
    "collapsed": false,
    "pycharm": {
     "name": "#%%\n",
     "is_executing": true
    }
   }
  },
  {
   "cell_type": "code",
   "execution_count": 61,
   "outputs": [],
   "source": [
    "# Load imagenet21k into a indexed map.\n",
    "d21 = []\n",
    "with imagenet21k_lemmas_file.open('r') as f21:\n",
    "    d21 = f21.readlines()\n",
    "\n",
    "i21 = {i: value.strip('\\n') for i, value in enumerate(d21)}"
   ],
   "metadata": {
    "collapsed": false,
    "pycharm": {
     "name": "#%%\n"
    }
   }
  },
  {
   "cell_type": "code",
   "execution_count": 94,
   "outputs": [],
   "source": [
    "# Download and extract resnet152 model\n",
    "# resnet152_model_url = \"https://tfhub.dev/google/bit/m-r152x4/imagenet21k_classification/1\"\n",
    "resnet152_model_download_url = \"https://tfhub.dev/google/bit/m-r152x4/imagenet21k_classification/1?tf-hub-format=compressed\"\n",
    "resnet152_model_dir = Path('download/resnet152_model')\n",
    "resnet152_model_file = Path('download/resnet152_model.tar.gz')\n",
    "if not resnet152_model_dir.exists():\n",
    "    !mkdir -p download\n",
    "    if not resnet152_model_file.is_file():\n",
    "        !wget -O \"{resnet152_model_file}\" \"{resnet152_model_download_url}\"\n",
    "    !mkdir -p \"{resnet152_model_dir}\"\n",
    "    !tar -xvf \"{resnet152_model_file}\" -C \"{resnet152_model_dir}\""
   ],
   "metadata": {
    "collapsed": false,
    "pycharm": {
     "name": "#%%\n"
    }
   }
  },
  {
   "cell_type": "code",
   "execution_count": 98,
   "outputs": [],
   "source": [
    "# Load model from disk\n",
    "resnet152_model = tf_hub.KerasLayer(str(resnet152_model_dir))"
   ],
   "metadata": {
    "collapsed": false,
    "pycharm": {
     "name": "#%%\n"
    }
   }
  },
  {
   "cell_type": "code",
   "execution_count": 114,
   "outputs": [],
   "source": [
    "def reshape_image(img):\n",
    "    img = np.array(img)\n",
    "    reshaped_img = tf.reshape(img, [1, img.shape[0], img.shape[1], img.shape[2]]) # [batch, height, width, channels]\n",
    "    img = tf.image.convert_image_dtype(reshaped_img, tf.float32)\n",
    "    return img\n",
    "\n",
    "def show_predictions(model, img, img_dict):\n",
    "    logits = model(img)\n",
    "    logits = tf.reshape(logits, [-1])\n",
    "    probs = tf.nn.softmax(logits)\n",
    "\n",
    "    t5_idxs = np.argsort(probs)[:-6:-1] # Get indexes of Top 5 probabilities\n",
    "    t5_probs = np.sort(probs)[:-6:-1]\n",
    "    t5_labels = [img_dict[i] for i in t5_idxs]\n",
    "\n",
    "    y_pos = np.flip(np.arange(len(t5_labels)))\n",
    "    plt.barh(y_pos, t5_probs, color='blue')\n",
    "    for i, v in zip(y_pos, t5_probs):\n",
    "        plt.text(x=max(0.05, v-0.3), y=i-0.15, s=round(v,2), color='black', size=15, wrap=True)\n",
    "    plt.yticks(y_pos, t5_labels)\n",
    "    plt.title('Top 5 Predictions')\n",
    "\n",
    "def predict_image(img_file):\n",
    "    img = Image.open(img_file).convert(\"RGB\")\n",
    "    shaped_img = reshape_image(img)\n",
    "    plt.figure(figsize=(14, 4))\n",
    "    plt.subplot(1,2,1)\n",
    "    show_predictions(resnet152_model, tf.image.resize(shaped_img, (224, 224)), i21)\n",
    "    plt.subplot(1,2,2)\n",
    "    plt.imshow(shaped_img[0])\n",
    "    plt.tight_layout()"
   ],
   "metadata": {
    "collapsed": false,
    "pycharm": {
     "name": "#%%\n"
    }
   }
  },
  {
   "cell_type": "code",
   "execution_count": null,
   "outputs": [],
   "source": [
    "predict_image(\"data/dolphins.jpeg\")\n",
    "predict_image(\"data/tiger.jpeg\")"
   ],
   "metadata": {
    "collapsed": false,
    "pycharm": {
     "name": "#%%\n",
     "is_executing": true
    }
   }
  }
 ],
 "metadata": {
  "kernelspec": {
   "display_name": "Python 3",
   "language": "python",
   "name": "python3"
  },
  "language_info": {
   "codemirror_mode": {
    "name": "ipython",
    "version": 2
   },
   "file_extension": ".py",
   "mimetype": "text/x-python",
   "name": "python",
   "nbconvert_exporter": "python",
   "pygments_lexer": "ipython2",
   "version": "2.7.6"
  }
 },
 "nbformat": 4,
 "nbformat_minor": 0
}
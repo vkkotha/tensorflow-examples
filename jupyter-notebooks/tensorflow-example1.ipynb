{
 "cells": [
  {
   "cell_type": "code",
   "execution_count": 1,
   "id": "9550e6aa-bf96-41da-ac48-9695b528981d",
   "metadata": {},
   "outputs": [],
   "source": [
    "import os\n",
    "os.environ['TF_CPP_MIN_LOG_LEVEL'] = '2'\n",
    "import tensorflow as tf\n",
    "import numpy as np\n",
    "import matplotlib.pyplot as plt\n",
    "%matplotlib inline\n",
    "import scipy.stats as stats\n",
    "import seaborn as sns\n",
    "sns.set()"
   ]
  },
  {
   "cell_type": "markdown",
   "id": "7a6b940c-02b1-4967-b086-849dfb9c82c1",
   "metadata": {},
   "source": [
    "# Constants"
   ]
  },
  {
   "cell_type": "code",
   "execution_count": 2,
   "id": "4a57cb9e-a85b-4df4-8fd4-8f0fede64b2b",
   "metadata": {},
   "outputs": [
    {
     "data": {
      "text/plain": [
       "<tf.Tensor: shape=(), dtype=int32, numpy=123>"
      ]
     },
     "execution_count": 2,
     "metadata": {},
     "output_type": "execute_result"
    }
   ],
   "source": [
    "t1 = tf.constant(123)\n",
    "t1"
   ]
  },
  {
   "cell_type": "code",
   "execution_count": 3,
   "id": "4804e1b6-4224-40ba-8970-c0c386bd4b6e",
   "metadata": {},
   "outputs": [
    {
     "data": {
      "text/plain": [
       "123"
      ]
     },
     "execution_count": 3,
     "metadata": {},
     "output_type": "execute_result"
    }
   ],
   "source": [
    "t1.numpy()"
   ]
  },
  {
   "cell_type": "code",
   "execution_count": 4,
   "id": "f812506a-b97f-4546-b033-352d5e58cdab",
   "metadata": {},
   "outputs": [
    {
     "data": {
      "text/plain": [
       "array([23., 15.], dtype=float32)"
      ]
     },
     "execution_count": 4,
     "metadata": {},
     "output_type": "execute_result"
    }
   ],
   "source": [
    "t2 = tf.constant([23,15], tf.float32)\n",
    "t2.numpy()"
   ]
  },
  {
   "cell_type": "code",
   "execution_count": 5,
   "id": "b53939ef-8436-4096-b372-3f8feff33ea2",
   "metadata": {},
   "outputs": [
    {
     "data": {
      "text/plain": [
       "array([[0, 0, 0, 0],\n",
       "       [0, 0, 0, 0],\n",
       "       [0, 0, 0, 0]], dtype=int32)"
      ]
     },
     "execution_count": 5,
     "metadata": {},
     "output_type": "execute_result"
    }
   ],
   "source": [
    "t3 = tf.zeros([3,4], tf.int32)\n",
    "t4 = tf.zeros_like(t3)\n",
    "t4.numpy()"
   ]
  },
  {
   "cell_type": "code",
   "execution_count": 6,
   "id": "6a8986bd-cc30-4344-b82c-1e646138116c",
   "metadata": {},
   "outputs": [
    {
     "data": {
      "text/plain": [
       "array([[1., 0., 0.],\n",
       "       [0., 1., 0.],\n",
       "       [0., 0., 1.]], dtype=float32)"
      ]
     },
     "execution_count": 6,
     "metadata": {},
     "output_type": "execute_result"
    }
   ],
   "source": [
    "t5 = tf.eye(3)\n",
    "t5.numpy()"
   ]
  },
  {
   "cell_type": "code",
   "execution_count": 7,
   "id": "90d12a14-5ba2-4a95-b4ae-8526f9bb9883",
   "metadata": {},
   "outputs": [
    {
     "data": {
      "text/plain": [
       "array([ 1.  ,  3.25,  5.5 ,  7.75, 10.  ])"
      ]
     },
     "execution_count": 7,
     "metadata": {},
     "output_type": "execute_result"
    }
   ],
   "source": [
    "t6 = tf.linspace(1, 10, 5)\n",
    "t6.numpy()"
   ]
  },
  {
   "cell_type": "code",
   "execution_count": 8,
   "id": "0823b2a9-4f75-47b3-b2e1-013ece6cc8b7",
   "metadata": {},
   "outputs": [
    {
     "data": {
      "text/plain": [
       "array([1, 3, 5, 7, 9], dtype=int32)"
      ]
     },
     "execution_count": 8,
     "metadata": {},
     "output_type": "execute_result"
    }
   ],
   "source": [
    "# range excludes last element\n",
    "t7 = tf.range(1, 10, 2)\n",
    "t7.numpy()"
   ]
  },
  {
   "cell_type": "markdown",
   "id": "dd006482-5a81-4365-8c0d-82a2755cb1ba",
   "metadata": {
    "tags": []
   },
   "source": [
    "## Constants distributions"
   ]
  },
  {
   "cell_type": "markdown",
   "id": "9ac8056f-7207-4965-a4ae-8cc0b7fbed88",
   "metadata": {},
   "source": [
    "### Normal Distribution\n",
    "##### Probability of x is Highest in Center"
   ]
  },
  {
   "cell_type": "code",
   "execution_count": 9,
   "id": "c39d6522-6efe-40c5-9728-ff2c0f58700e",
   "metadata": {},
   "outputs": [
    {
     "data": {
      "text/plain": [
       "array([[ 2.3773637 ,  6.9691973 ,  4.1306586 , -0.8854084 ,  4.198497  ,\n",
       "         5.1824484 ],\n",
       "       [ 5.185646  , -0.24585915,  2.5542054 ,  3.8874593 ,  5.2870893 ,\n",
       "         3.4713519 ],\n",
       "       [ 7.7132664 ,  5.1356835 ,  3.2343283 ,  1.0293133 ,  6.5235424 ,\n",
       "         3.9493878 ]], dtype=float32)"
      ]
     },
     "execution_count": 9,
     "metadata": {},
     "output_type": "execute_result"
    }
   ],
   "source": [
    "t8 = tf.random.normal([3,6], mean=4.0, stddev=2, seed=1) # Random normal distribution with mean 4\n",
    "t8.numpy()"
   ]
  },
  {
   "cell_type": "code",
   "execution_count": 10,
   "id": "99ac2e00-d282-4567-a859-0d5616dc769c",
   "metadata": {},
   "outputs": [
    {
     "data": {
      "text/plain": [
       "array([5.092092 , 3.9530075, 3.3063974, 1.3437881, 5.336376 , 4.2010627],\n",
       "      dtype=float32)"
      ]
     },
     "execution_count": 10,
     "metadata": {},
     "output_type": "execute_result"
    }
   ],
   "source": [
    "np.mean(t8.numpy(), axis=0) # Mean by Column, some won't be close to 4.0"
   ]
  },
  {
   "cell_type": "code",
   "execution_count": 11,
   "id": "bac4358f-89b5-4b2f-99c8-2fd57c81e9e4",
   "metadata": {},
   "outputs": [
    {
     "data": {
      "text/plain": [
       "array([3.6621265, 3.3566487, 4.597587 ], dtype=float32)"
      ]
     },
     "execution_count": 11,
     "metadata": {},
     "output_type": "execute_result"
    }
   ],
   "source": [
    "np.mean(t8.numpy(), axis=1) # MEan by Row, close to 4.0"
   ]
  },
  {
   "cell_type": "code",
   "execution_count": 12,
   "id": "6f19de37-7b2e-4481-ab6a-7a051d2711e7",
   "metadata": {},
   "outputs": [
    {
     "data": {
      "text/plain": [
       "3.8721209"
      ]
     },
     "execution_count": 12,
     "metadata": {},
     "output_type": "execute_result"
    }
   ],
   "source": [
    "np.mean(t8.numpy()) # Mean of all entries, close to 4.0"
   ]
  },
  {
   "cell_type": "code",
   "execution_count": 13,
   "id": "7706d23f-5029-4425-a9ac-470ea10d4a48",
   "metadata": {},
   "outputs": [
    {
     "data": {
      "text/plain": [
       "array([2.4524138, 1.8703264, 2.187751 ], dtype=float32)"
      ]
     },
     "execution_count": 13,
     "metadata": {},
     "output_type": "execute_result"
    }
   ],
   "source": [
    "np.std(t8.numpy(), axis=1) # Standard deviation by Row, close to 2"
   ]
  },
  {
   "cell_type": "code",
   "execution_count": 14,
   "id": "83eaf0e1-aca8-41c7-9872-4f22c54b6c86",
   "metadata": {},
   "outputs": [],
   "source": [
    "n8 = t8.numpy().flatten()"
   ]
  },
  {
   "cell_type": "code",
   "execution_count": 15,
   "id": "493ab47b-846f-4ca6-99ef-115297df04f7",
   "metadata": {},
   "outputs": [
    {
     "data": {
      "text/plain": [
       "<AxesSubplot:ylabel='Count'>"
      ]
     },
     "execution_count": 15,
     "metadata": {},
     "output_type": "execute_result"
    },
    {
     "data": {
      "image/png": "[encoded data removed]",
      "text/plain": [
       "<Figure size 432x288 with 2 Axes>"
      ]
     },
     "metadata": {},
     "output_type": "display_data"
    }
   ],
   "source": [
    "sns.kdeplot(n8, shade=True)\n",
    "ax2 = plt.twinx()\n",
    "sns.histplot(n8, ax=ax2)"
   ]
  },
  {
   "cell_type": "code",
   "execution_count": 16,
   "id": "b1f42772-e0e5-4c2f-8790-6bf3b54174b2",
   "metadata": {},
   "outputs": [
    {
     "data": {
      "text/plain": [
       "<tf.Variable 'Variable:0' shape=(100, 100) dtype=float32, numpy=\n",
       "array([[0., 0., 0., ..., 0., 0., 0.],\n",
       "       [0., 0., 0., ..., 0., 0., 0.],\n",
       "       [0., 0., 0., ..., 0., 0., 0.],\n",
       "       ...,\n",
       "       [0., 0., 0., ..., 0., 0., 0.],\n",
       "       [0., 0., 0., ..., 0., 0., 0.],\n",
       "       [0., 0., 0., ..., 0., 0., 0.]], dtype=float32)>"
      ]
     },
     "execution_count": 16,
     "metadata": {},
     "output_type": "execute_result"
    }
   ],
   "source": [
    "# Use Variable with trainable=False for more efficient constants\n",
    "c1 = tf.Variable(tf.zeros([100, 100]), trainable=False)\n",
    "c1"
   ]
  },
  {
   "cell_type": "markdown",
   "id": "c10dcc10-ac09-4f3f-9633-ec404018a4a6",
   "metadata": {},
   "source": [
    "### Uniform Distribution\n",
    "##### Probability of x is constant"
   ]
  },
  {
   "cell_type": "code",
   "execution_count": 17,
   "id": "a044374b-d1d2-4912-a263-bc6f7b30a314",
   "metadata": {},
   "outputs": [
    {
     "data": {
      "text/plain": [
       "array([0.9561496 , 3.6815982 , 0.20204973, 1.9829779 , 3.3420892 ,\n",
       "       0.10588169, 0.35245228, 1.8266416 , 3.075357  , 2.9505453 ,\n",
       "       3.1401978 , 1.2481055 , 0.6074586 , 0.8110447 , 1.2335424 ,\n",
       "       2.1605887 , 1.8038821 , 1.0127664 ], dtype=float32)"
      ]
     },
     "execution_count": 17,
     "metadata": {},
     "output_type": "execute_result"
    }
   ],
   "source": [
    "t9 = tf.random.uniform([3,6], maxval=4, seed=1)\n",
    "n9 = t9.numpy().flatten()\n",
    "n9"
   ]
  },
  {
   "cell_type": "code",
   "execution_count": 18,
   "id": "97560fe0-9371-4dad-9b0a-ed868c742098",
   "metadata": {},
   "outputs": [
    {
     "data": {
      "text/plain": [
       "<AxesSubplot:ylabel='Count'>"
      ]
     },
     "execution_count": 18,
     "metadata": {},
     "output_type": "execute_result"
    },
    {
     "data": {
      "image/png": "[encoded data removed]",
      "text/plain": [
       "<Figure size 432x288 with 2 Axes>"
      ]
     },
     "metadata": {},
     "output_type": "display_data"
    }
   ],
   "source": [
    "sns.kdeplot(n9, shade=True)\n",
    "ax2 = plt.twinx()\n",
    "sns.histplot(n9, ax=ax2)"
   ]
  },
  {
   "cell_type": "markdown",
   "id": "6c58c50d-e516-4dce-b360-40f5d2579685",
   "metadata": {},
   "source": [
    "# Variables"
   ]
  },
  {
   "cell_type": "code",
   "execution_count": 19,
   "id": "5c5575ba-0914-42d6-839a-cff5c4f1930d",
   "metadata": {},
   "outputs": [
    {
     "data": {
      "text/plain": [
       "<tf.Variable 'v1:0' shape=(3, 3) dtype=float32, numpy=\n",
       "array([[-0.5659555 , -3.4653244 ,  1.5843469 ],\n",
       "       [-2.9987328 , -2.829377  ,  1.4359994 ],\n",
       "       [-2.880126  , -0.22317512, -8.472265  ]], dtype=float32)>"
      ]
     },
     "execution_count": 19,
     "metadata": {},
     "output_type": "execute_result"
    }
   ],
   "source": [
    "v1 = tf.Variable(tf.random.normal([3,3], stddev=3), name='v1')\n",
    "v1"
   ]
  },
  {
   "cell_type": "code",
   "execution_count": 20,
   "id": "cd25d41c-2cf9-48a3-83e7-d69e46c1c1d4",
   "metadata": {},
   "outputs": [
    {
     "data": {
      "text/plain": [
       "<tf.Variable 'v2:0' shape=(4, 4) dtype=float32, numpy=\n",
       "array([[1., 1., 1., 1.],\n",
       "       [1., 1., 1., 1.],\n",
       "       [1., 1., 1., 1.],\n",
       "       [1., 1., 1., 1.]], dtype=float32)>"
      ]
     },
     "execution_count": 20,
     "metadata": {},
     "output_type": "execute_result"
    }
   ],
   "source": [
    "# Deprecated method. See below for newer way in Tensorflow 2.x\n",
    "v2 = tf.compat.v1.get_variable(\"v2\", [4,4], initializer=tf.ones_initializer)\n",
    "v2"
   ]
  },
  {
   "cell_type": "code",
   "execution_count": 21,
   "id": "32bb84e4-0342-4741-9845-ce13adc267d1",
   "metadata": {},
   "outputs": [
    {
     "data": {
      "text/plain": [
       "<tf.Variable 'v2:0' shape=(3, 3) dtype=int32, numpy=\n",
       "array([[1, 1, 1],\n",
       "       [1, 1, 1],\n",
       "       [1, 1, 1]], dtype=int32)>"
      ]
     },
     "execution_count": 21,
     "metadata": {},
     "output_type": "execute_result"
    }
   ],
   "source": [
    "v3 = tf.Variable(tf.ones_initializer()(shape=[3,3], dtype=tf.int32), name=\"v2\")\n",
    "v3"
   ]
  },
  {
   "cell_type": "markdown",
   "id": "c7eb6543-a926-4bfe-927e-5b4e4f857231",
   "metadata": {},
   "source": [
    "# Placeholders"
   ]
  },
  {
   "cell_type": "code",
   "execution_count": 27,
   "id": "76e13057-981d-4a74-b5c6-08608c2912f1",
   "metadata": {},
   "outputs": [
    {
     "name": "stdout",
     "output_type": "stream",
     "text": [
      "12\n"
     ]
    }
   ],
   "source": [
    "tf.compat.v1.disable_eager_execution()\n",
    "sess = tf.compat.v1.InteractiveSession()\n",
    "a = tf.compat.v1.placeholder(tf.int32, name='a')\n",
    "b = tf.compat.v1.placeholder(tf.int32, name='b')\n",
    "c = tf.math.multiply(a, b, name='c')\n",
    "print(sess.run(c, feed_dict={a: 3, b: 4}))\n",
    "sess.close()"
   ]
  },
  {
   "cell_type": "code",
   "execution_count": null,
   "id": "06870961-57a7-427d-b601-b37722bff307",
   "metadata": {},
   "outputs": [],
   "source": []
  }
 ],
 "metadata": {
  "kernelspec": {
   "display_name": "Python 3 (ipykernel)",
   "language": "python",
   "name": "python3"
  },
  "language_info": {
   "codemirror_mode": {
    "name": "ipython",
    "version": 3
   },
   "file_extension": ".py",
   "mimetype": "text/x-python",
   "name": "python",
   "nbconvert_exporter": "python",
   "pygments_lexer": "ipython3",
   "version": "3.9.5"
  }
 },
 "nbformat": 4,
 "nbformat_minor": 5
}
